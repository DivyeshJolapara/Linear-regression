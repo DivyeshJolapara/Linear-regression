{
 "cells": [
  {
   "cell_type": "markdown",
   "metadata": {},
   "source": [
    "# Linear Regression (univariate)"
   ]
  },
  {
   "cell_type": "markdown",
   "metadata": {},
   "source": [
    "#### Problem statement: Suppose you are the CEO of a restaurant franchise and are considering diﬀerent cities for opening a new outlet. The chain already has trucks in various cities and you have data for proﬁts and populations from the cities. You would like to use this data to help you select which city to expand to next. \n"
   ]
  },
  {
   "cell_type": "code",
   "execution_count": 87,
   "metadata": {},
   "outputs": [],
   "source": [
    "import numpy as np\n",
    "import pandas as pd\n",
    "import matplotlib.pyplot as plt\n",
    "import sympy as sym\n",
    "from IPython.display import Math,display\n",
    "# %matplotlib notebook\n",
    "# %matplotlib notebook\n",
    "%matplotlib inline"
   ]
  },
  {
   "cell_type": "code",
   "execution_count": 88,
   "metadata": {},
   "outputs": [],
   "source": [
    "df = pd.read_csv('C:\\\\Users\\\\divye\\\\Desktop\\\\mlA\\\\machine-learning-ex1completed\\\\ex1\\\\ex1data1.txt',\n",
    "                 names=['Population','Profit'])"
   ]
  },
  {
   "cell_type": "code",
   "execution_count": 89,
   "metadata": {},
   "outputs": [
    {
     "data": {
      "text/html": [
       "<div>\n",
       "<style scoped>\n",
       "    .dataframe tbody tr th:only-of-type {\n",
       "        vertical-align: middle;\n",
       "    }\n",
       "\n",
       "    .dataframe tbody tr th {\n",
       "        vertical-align: top;\n",
       "    }\n",
       "\n",
       "    .dataframe thead th {\n",
       "        text-align: right;\n",
       "    }\n",
       "</style>\n",
       "<table border=\"1\" class=\"dataframe\">\n",
       "  <thead>\n",
       "    <tr style=\"text-align: right;\">\n",
       "      <th></th>\n",
       "      <th>Population</th>\n",
       "      <th>Profit</th>\n",
       "    </tr>\n",
       "  </thead>\n",
       "  <tbody>\n",
       "    <tr>\n",
       "      <th>count</th>\n",
       "      <td>97.000000</td>\n",
       "      <td>97.000000</td>\n",
       "    </tr>\n",
       "    <tr>\n",
       "      <th>mean</th>\n",
       "      <td>8.159800</td>\n",
       "      <td>5.839135</td>\n",
       "    </tr>\n",
       "    <tr>\n",
       "      <th>std</th>\n",
       "      <td>3.869884</td>\n",
       "      <td>5.510262</td>\n",
       "    </tr>\n",
       "    <tr>\n",
       "      <th>min</th>\n",
       "      <td>5.026900</td>\n",
       "      <td>-2.680700</td>\n",
       "    </tr>\n",
       "    <tr>\n",
       "      <th>25%</th>\n",
       "      <td>5.707700</td>\n",
       "      <td>1.986900</td>\n",
       "    </tr>\n",
       "    <tr>\n",
       "      <th>50%</th>\n",
       "      <td>6.589400</td>\n",
       "      <td>4.562300</td>\n",
       "    </tr>\n",
       "    <tr>\n",
       "      <th>75%</th>\n",
       "      <td>8.578100</td>\n",
       "      <td>7.046700</td>\n",
       "    </tr>\n",
       "    <tr>\n",
       "      <th>max</th>\n",
       "      <td>22.203000</td>\n",
       "      <td>24.147000</td>\n",
       "    </tr>\n",
       "  </tbody>\n",
       "</table>\n",
       "</div>"
      ],
      "text/plain": [
       "       Population     Profit\n",
       "count   97.000000  97.000000\n",
       "mean     8.159800   5.839135\n",
       "std      3.869884   5.510262\n",
       "min      5.026900  -2.680700\n",
       "25%      5.707700   1.986900\n",
       "50%      6.589400   4.562300\n",
       "75%      8.578100   7.046700\n",
       "max     22.203000  24.147000"
      ]
     },
     "execution_count": 89,
     "metadata": {},
     "output_type": "execute_result"
    }
   ],
   "source": [
    "X = df.Population\n",
    "y = df.Profit\n",
    "df.describe()"
   ]
  },
  {
   "cell_type": "code",
   "execution_count": 90,
   "metadata": {},
   "outputs": [
    {
     "data": {
      "text/plain": [
       "Text(0, 0.5, 'Profit in $10,000')"
      ]
     },
     "execution_count": 90,
     "metadata": {},
     "output_type": "execute_result"
    },
    {
     "data": {
      "image/png": "[encoded data removed]",
      "text/plain": [
       "<Figure size 432x288 with 1 Axes>"
      ]
     },
     "metadata": {
      "needs_background": "light"
     },
     "output_type": "display_data"
    }
   ],
   "source": [
    "# plotting raw data\n",
    "#plt.figure(figsize = (10,6))\n",
    "plt.plot(X,y,'o')\n",
    "plt.title('Citywise profit')\n",
    "plt.xticks(np.arange(5,25))\n",
    "plt.xlabel('Population in 10,000s')\n",
    "plt.ylabel('Profit in $10,000')"
   ]
  },
  {
   "cell_type": "code",
   "execution_count": 91,
   "metadata": {},
   "outputs": [],
   "source": [
    "# Gradient Descent\n",
    "\n",
    "# Create a 97x2 dimension matrix with ones and population\n",
    "# 1st column is a vector of ones and next is Population\n",
    "# ones is added for matrix to be multiplyable by 2x1 theta vector\n",
    "# X_ and y_ are created for easy Linear algebra implementation\n",
    "\n",
    "X_ = np.ones([len(X),2])\n",
    "y_ = np.ones([len(X),1])\n",
    "for i in range(len(X)):\n",
    "    X_[i,1] = X[i]\n",
    "    y_[i] = y[i]\n",
    "theta = np.array([[0],[0]])\n",
    "\n"
   ]
  },
  {
   "cell_type": "code",
   "execution_count": 92,
   "metadata": {},
   "outputs": [
    {
     "data": {
      "text/latex": [
       "$\\displaystyle \\text{Cost Function for linear regression\n",
       "}$"
      ],
      "text/plain": [
       "<IPython.core.display.Math object>"
      ]
     },
     "metadata": {},
     "output_type": "display_data"
    },
    {
     "data": {
      "text/latex": [
       "$\\displaystyle J(\\theta_0,\\theta_1)=\\frac{1}{2m}\\sum_{i=1}^{m}(h_{\\theta}(x^{(i)}-y^{(i)})^{2}$"
      ],
      "text/plain": [
       "<IPython.core.display.Math object>"
      ]
     },
     "metadata": {},
     "output_type": "display_data"
    }
   ],
   "source": [
    "from sympy.abc import i\n",
    "\n",
    "display(Math('\\\\text{Cost Function for linear regression\\n}'))\n",
    "display(Math('J(\\\\theta_0,\\\\theta_1)=\\\\frac{%s}{2m}\\\\sum_{i=1}^{m}(h_{\\\\theta}(x^{(i)}-y^{(i)})^{2}'%(1)))"
   ]
  },
  {
   "cell_type": "code",
   "execution_count": 93,
   "metadata": {},
   "outputs": [
    {
     "data": {
      "text/latex": [
       "$\\displaystyle \\text{Cost: }J(0,0) = 32.0727$"
      ],
      "text/plain": [
       "<IPython.core.display.Math object>"
      ]
     },
     "metadata": {},
     "output_type": "display_data"
    }
   ],
   "source": [
    "epochs = 1500\n",
    "alpha = 0.01    # learning rate\n",
    "\n",
    "\n",
    "def compute_cost(X_,y_,theta):\n",
    "    '''\n",
    "    Computes cost for linear regression\n",
    "    theta = 2x1 vector\n",
    "    Returns cost for provided theta vector\n",
    "    '''\n",
    "    \n",
    "    m = len(y_)\n",
    "    J = (1/(2*m))*sum((X_@theta - y_)**2);\n",
    "    return J\n",
    "\n",
    "cf1 = compute_cost(X_,y_,theta)\n",
    "\n",
    "display(Math('\\\\text{Cost: }J(%s,%s) = %g'%(0,0,cf1)))"
   ]
  },
  {
   "cell_type": "code",
   "execution_count": 94,
   "metadata": {},
   "outputs": [
    {
     "data": {
      "text/plain": [
       "array([[-3.63029144],\n",
       "       [ 1.16636235]])"
      ]
     },
     "execution_count": 94,
     "metadata": {},
     "output_type": "execute_result"
    },
    {
     "data": {
      "image/png": "[encoded data removed]",
      "text/plain": [
       "<Figure size 432x288 with 1 Axes>"
      ]
     },
     "metadata": {
      "needs_background": "light"
     },
     "output_type": "display_data"
    }
   ],
   "source": [
    "# Gradient Descent\n",
    "\n",
    "def gradient_descent(X_, y_, theta, alpha, epochs):\n",
    "    '''\n",
    "    Performs Gradient Descent to optimize parameters theta0 and theta1\n",
    "    '''\n",
    "    #J_history = np.zeros([epochs,1])\n",
    "    \n",
    "    m = len(X_)\n",
    "    for i in range(epochs):\n",
    "        \n",
    "        h =  X_@theta\n",
    "        theta = theta - (alpha/m)*(((h-y_).T)@X_).T\n",
    "        \n",
    "    \n",
    "    ###################################################\n",
    "    # Code for Plotting\n",
    "    theta0_vals = np.linspace(-10,10,100)\n",
    "    theta1_vals = np.linspace(-1, 4, 100)\n",
    "\n",
    "    J_vals = np.zeros([len(theta0_vals), len(theta1_vals)])\n",
    "    for i in range(len(theta0_vals)):\n",
    "        for j in range(len(theta1_vals)):\n",
    "            t = [[theta0_vals[i]], [theta1_vals[j]]]\n",
    "            J_vals[[i],[j]] = compute_cost(X_,y_,t)\n",
    "    J_vals = J_vals.T\n",
    "    fig,ax = plt.subplots(1,1)\n",
    "    cp = ax.contourf(theta0_vals, theta1_vals,J_vals,np.logspace(-2, 3, 20),cmap='gray')\n",
    "    plt.xlabel('$\\\\theta_0$')\n",
    "    plt.ylabel('$\\\\theta_1$')\n",
    "    plt.title('Contour plot')\n",
    "    contour = plt.plot(theta[0],theta[1],'rx')\n",
    "        \n",
    "        \n",
    "    return theta\n",
    "    \n",
    "theta_test = np.array([[0],[0]]) # start with random values\n",
    "theta = gradient_descent(X_, y_,theta_test,alpha, epochs)\n",
    "theta"
   ]
  },
  {
   "cell_type": "code",
   "execution_count": 95,
   "metadata": {},
   "outputs": [
    {
     "data": {
      "text/plain": [
       "array([-3.63029144])"
      ]
     },
     "execution_count": 95,
     "metadata": {},
     "output_type": "execute_result"
    }
   ],
   "source": [
    "theta[0]"
   ]
  },
  {
   "cell_type": "code",
   "execution_count": 96,
   "metadata": {},
   "outputs": [
    {
     "name": "stdout",
     "output_type": "stream",
     "text": [
      "Values of theta found after gradient descent\n"
     ]
    },
    {
     "data": {
      "text/latex": [
       "$\\displaystyle \\theta_0={-3.63029}$"
      ],
      "text/plain": [
       "<IPython.core.display.Math object>"
      ]
     },
     "metadata": {},
     "output_type": "display_data"
    },
    {
     "data": {
      "text/latex": [
       "$\\displaystyle \\theta_1={1.16636} $"
      ],
      "text/plain": [
       "<IPython.core.display.Math object>"
      ]
     },
     "metadata": {},
     "output_type": "display_data"
    }
   ],
   "source": [
    "print('Values of theta found after gradient descent')\n",
    "display(Math('\\\\theta_0={%g}'%(theta[0])))\n",
    "display(Math('\\\\theta_1={%g} ' %(theta[1])))"
   ]
  },
  {
   "cell_type": "code",
   "execution_count": null,
   "metadata": {},
   "outputs": [],
   "source": []
  },
  {
   "cell_type": "code",
   "execution_count": 97,
   "metadata": {},
   "outputs": [
    {
     "data": {
      "text/plain": [
       "Text(0, 0.5, 'Profit in $10,000')"
      ]
     },
     "execution_count": 97,
     "metadata": {},
     "output_type": "execute_result"
    },
    {
     "data": {
      "image/png": "[encoded data removed]",
      "text/plain": [
       "<Figure size 720x432 with 1 Axes>"
      ]
     },
     "metadata": {
      "needs_background": "light"
     },
     "output_type": "display_data"
    }
   ],
   "source": [
    "plt.figure(figsize = (10,6))\n",
    "plt.plot(X,y,'o',label='Training data')\n",
    "plt.plot(X,theta[1]*X+theta[0],'r-',label='Regression line')\n",
    "plt.title('Citywise profit')\n",
    "plt.legend()\n",
    "plt.grid()\n",
    "plt.xticks(np.arange(5,25))\n",
    "plt.xlabel('Population in 10,000s')\n",
    "plt.ylabel('Profit in $10,000')"
   ]
  },
  {
   "cell_type": "code",
   "execution_count": 103,
   "metadata": {},
   "outputs": [
    {
     "data": {
      "text/plain": [
       "80333.32063951461"
      ]
     },
     "execution_count": 103,
     "metadata": {},
     "output_type": "execute_result"
    }
   ],
   "source": [
    "# predicting for value x\n",
    "\n",
    "x = 10  # Population = 100,000\n",
    "pred = ([1,x]@theta) [0]*10000\n",
    "pred"
   ]
  },
  {
   "cell_type": "code",
   "execution_count": 104,
   "metadata": {},
   "outputs": [
    {
     "name": "stdout",
     "output_type": "stream",
     "text": [
      " For a population of 100,000 we predict a profit of $80333.32\n"
     ]
    }
   ],
   "source": [
    "print(f' For a population of {x}0,000 we predict a profit of ${np.round(pred,2)}')"
   ]
  },
  {
   "cell_type": "markdown",
   "metadata": {},
   "source": [
    "#### Made by: Divyesh Jolapara\n",
    "<i>***The data, problem statement and methodology has been used from Stanford University's course of machine learning on Coursera by Andrew NG</i>"
   ]
  }
 ],
 "metadata": {
  "kernelspec": {
   "display_name": "Python 3",
   "language": "python",
   "name": "python3"
  },
  "language_info": {
   "codemirror_mode": {
    "name": "ipython",
    "version": 3
   },
   "file_extension": ".py",
   "mimetype": "text/x-python",
   "name": "python",
   "nbconvert_exporter": "python",
   "pygments_lexer": "ipython3",
   "version": "3.7.3"
  }
 },
 "nbformat": 4,
 "nbformat_minor": 2
}
